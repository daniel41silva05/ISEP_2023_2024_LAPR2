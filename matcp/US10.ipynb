{
 "cells": [
  {
   "cell_type": "code",
   "execution_count": null,
   "id": "initial_id",
   "metadata": {
    "collapsed": true
   },
   "outputs": [],
   "source": [
    "import pandas as pd\n",
    "import matplotlib.pyplot as plt\n",
    "import csv\n",
    "\n",
    "# Leitura do arquivo CSV\n",
    "data = pd.read_csv(\"EquipmentUsed.csv\")\n",
    "\n",
    "# Contagem do uso de cada equipamento\n",
    "equipment_usage = data.iloc[:, 1:].sum()\n",
    "\n",
    "# Criação do gráfico de pizza\n",
    "plt.figure(figsize=(8, 6))\n",
    "plt.pie(equipment_usage, labels=equipment_usage.index, autopct='%1.1f%%', startangle=140)\n",
    "plt.title('Equipments Usage Percentage')\n",
    "plt.axis('equal')  # Assegura que o gráfico seja desenhado como um círculo\n",
    "plt.show()\n"
   ]
  }
 ],
 "metadata": {
  "kernelspec": {
   "display_name": "Python 3",
   "language": "python",
   "name": "python3"
  },
  "language_info": {
   "codemirror_mode": {
    "name": "ipython",
    "version": 2
   },
   "file_extension": ".py",
   "mimetype": "text/x-python",
   "name": "python",
   "nbconvert_exporter": "python",
   "pygments_lexer": "ipython2",
   "version": "2.7.6"
  }
 },
 "nbformat": 4,
 "nbformat_minor": 5
}
