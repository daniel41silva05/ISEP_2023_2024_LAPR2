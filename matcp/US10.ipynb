import pandas as pd
import matplotlib.pyplot as plt
import csv

# Leitura do arquivo CSV
data = pd.read_csv("EquipmentUsed.csv")

# Contagem do uso de cada equipamento
equipment_usage = data.iloc[:, 1:].sum()

# Criação do gráfico de pizza
plt.figure(figsize=(8, 6))
plt.pie(equipment_usage, labels=equipment_usage.index, autopct='%1.1f%%', startangle=140)
plt.title('Equipments Usage Percentage')
plt.axis('equal')  # Assegura que o gráfico seja desenhado como um círculo
plt.show()
