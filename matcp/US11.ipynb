{
 "cells": [
  {
   "cell_type": "code",
   "id": "dd3ad53f8f0fdb2e",
   "metadata": {
    "ExecuteTime": {
     "end_time": "2024-05-07T18:38:57.926042Z",
     "start_time": "2024-05-07T18:38:57.249264Z"
    }
   },
   "source": [
    "\"\"\"\n",
    "\n",
    "Introdução à User Story: Compreendendo o Uso do Parque por Grupos Etários\n",
    "\n",
    "Como um GSM (Funcionário de Gestão do Parque), tenho como objetivo obter insights abrangentes sobre os padrões de utilização do nosso parque, discernindo tendências entre diferentes demografias etárias. Para alcançar isso, integramos uma pesquisa de três perguntas dentro do nosso portal de usuário.\n",
    "\n",
    "Faixa Etária: Os usuários são solicitados a especificar seu grupo etário, categorizando-se como crianças (até 15 anos), adultos (entre 16 e 65 anos) ou idosos (mais de 65 anos).\n",
    "Recomendação: Os participantes indicam se recomendariam o parque para outros, com uma simples resposta 'Sim' ou 'Não'.\n",
    "Frequência de Visitas ao Parque: Os usuários quantificam suas visitas mensais ao parque com uma entrada numérica.\n",
    "Ao agregar respostas dessas perguntas da pesquisa, obtemos insights valiosos sobre os padrões de uso do parque segmentados por grupos etários. Especificamente, podemos determinar:\n",
    "\n",
    "A distribuição de recomendações de parque entre diferentes demografias etárias.\n",
    "Proporções de usuários de cada faixa etária que endossam o parque.\n",
    "Análise da frequência de visitas ao parque em diferentes grupos etários.\n",
    "Essa compreensão abrangente capacita a gestão do parque a adaptar comodidades, serviços e esforços de divulgação para melhor atender às diversas necessidades dos visitantes do nosso parque.\n",
    "\n",
    "\"\"\"\n"
   ],
   "outputs": [],
   "execution_count": null
  },
  {
   "metadata": {},
   "cell_type": "code",
   "outputs": [
    {
     "name": "stdout",
     "output_type": "stream",
     "text": [
      "Tipos de variáveis\n",
      "Idade:\n",
      "Escalao\n",
      "3    187\n",
      "2    182\n",
      "1    131\n",
      "Name: count, dtype: int64\n",
      "\n",
      "Recomendaria o parque para outros:\n",
      "Y/N\n",
      "N    254\n",
      "Y    246\n",
      "Name: count, dtype: int64\n",
      "\n",
      "Frequência de visitas ao parque por mês:\n",
      "count    500.00000\n",
      "mean       4.92600\n",
      "std        2.90334\n",
      "min        1.00000\n",
      "25%        2.00000\n",
      "50%        5.00000\n",
      "75%        7.00000\n",
      "max       12.00000\n",
      "Name: Visits, dtype: float64\n",
      "\n",
      "Proporção de usuários de cada faixa etária que recomendaria o parque:\n",
      "Escalao\n",
      "1    0.473282\n",
      "2    0.543956\n",
      "3    0.454545\n",
      "Name: proportion, dtype: float64\n",
      "\n",
      "Proporção de usuários de cada faixa etária que recomendaria o parque:\n",
      "Escalao\n",
      "1    0.473282\n",
      "2    0.543956\n",
      "3    0.454545\n",
      "dtype: float64\n"
     ]
    },
    {
     "data": {
      "text/plain": [
       "<Figure size 800x600 with 0 Axes>"
      ]
     },
     "metadata": {},
     "output_type": "display_data"
    },
    {
     "data": {
      "text/plain": [
       "<Figure size 640x480 with 1 Axes>"
      ],
      "image/png": "[encoded data removed]"
     },
     "metadata": {},
     "output_type": "display_data"
    }
   ],
   "execution_count": 14,
   "source": [
    "\n",
    "import pandas as pd\n",
    "import matplotlib.pyplot as plt\n",
    "import seaborn as sns\n",
    "\n",
    "# Leitura do arquivo CSV\n",
    "df = pd.read_csv(\"../datasetsMATCP/Inquiry.csv\", delimiter=';')\n",
    "\n",
    "# 1- Indicação do tipo de cada uma das três variáveis\n",
    "print(\"Tipos de variáveis\")\n",
    "print(\"Idade:\")\n",
    "print(df['Escalao'].value_counts())\n",
    "print(\"\\nRecomendaria o parque para outros:\")\n",
    "print(df['Y/N'].value_counts())\n",
    "print(\"\\nFrequência de visitas ao parque por mês:\")\n",
    "print(df['Visits'].describe())\n",
    "\n",
    "# 2- Proporção de usuários de cada faixa etária que recomendaria o parque\n",
    "recommendation_counts = df.groupby('Escalao')['Y/N'].value_counts(normalize=True)[:, 'Y']\n",
    "print(\"\\nProporção de usuários de cada faixa etária que recomendaria o parque:\")\n",
    "print(recommendation_counts)\n",
    "\n",
    "# 2- Indicar a proporção de usuários de cada faixa etária que recomendaria o parque\n",
    "recommendation_counts = df.groupby('Escalao')['Y/N'].value_counts(normalize=True, sort=False).unstack()\n",
    "proportion_recommend = recommendation_counts['Y'] / recommendation_counts.sum(axis=1)\n",
    "print(\"\\nProporção de usuários de cada faixa etária que recomendaria o parque:\")\n",
    "print(proportion_recommend)\n",
    "\n",
    "\n",
    "# 3- Criação de boxplot para cada faixa etária, referente à frequência mensal de uso do parque\n",
    "plt.figure(figsize=(8, 6))\n",
    "df.boxplot(column='Visits', by='Escalao', grid=False)\n",
    "plt.title('Boxplot da Frequência Mensal de Visita ao Parque por Faixa Etária')\n",
    "plt.xlabel('Faixa Etária')\n",
    "plt.ylabel('Frequência Mensal de Visita ao Parque')\n",
    "plt.suptitle('')\n",
    "plt.show()"
   ],
   "id": "ace945f0"
  },
  {
   "metadata": {},
   "cell_type": "code",
   "outputs": [],
   "execution_count": null,
   "source": [
    "\"\"\"\n",
    "Tipos de Variáveis:\n",
    "Observamos que a variável \"Idade\" (Escalão) é dividida em três categorias: crianças (1), adultos (2) e idosos (3).\n",
    "A variável \"Recomendaria o parque para outros\" (Y/N) é binária, com valores 'Sim' (Y) e 'Não' (N).\n",
    "A frequência de visitas ao parque por mês (Visits) é uma variável numérica contínua.\n",
    "\n",
    "Recomendação do Parque:\n",
    "Notamos que há uma quase equivalência na proporção de usuários que recomendariam o parque para outros, com 246 usuários (49.2%) indicando 'Sim' (Y) e 254 usuários (50.8%) indicando 'Não' (N).\n",
    "\n",
    "Frequência de Visitas ao Parque:\n",
    "A análise da frequência de visitas ao parque revela que, em média, os participantes realizam aproximadamente 4.93 visitas por mês, com um desvio padrão de 2.90.\n",
    "A mediana (valor central) da frequência de visitas é de 5 visitas por mês, sugerindo uma distribuição relativamente equilibrada das frequências.\n",
    "\n",
    "Proporção de Usuários por Faixa Etária que Recomendaria o Parque:\n",
    "Ao examinarmos a proporção de usuários de cada faixa etária que recomendaria o parque, observamos que a faixa etária de adultos (2) apresenta a maior proporção de recomendação, com aproximadamente 54.4%, seguida pela faixa etária de crianças (1) com 47.3% e pela faixa etária de idosos (3) com 45.5%.\n",
    "\n",
    "Análise do Gráfico de Frequência de Visitas por Faixa Etária:\n",
    "O gráfico sugere que, em média, os idosos realizam mais visitas ao parque do que os adultos, e estes, por sua vez, realizam mais visitas do que as crianças.\n",
    "Essa tendência pode indicar diferentes padrões de uso do parque por faixa etária, o que pode ser útil para orientar estratégias de gestão e marketing direcionadas a públicos específicos.\n",
    "\"\"\""
   ],
   "id": "c658e788ef46ba64"
  }
 ],
 "metadata": {
  "kernelspec": {
   "display_name": "Python 3 (ipykernel)",
   "language": "python",
   "name": "python3"
  },
  "language_info": {
   "codemirror_mode": {
    "name": "ipython",
    "version": 3
   },
   "file_extension": ".py",
   "mimetype": "text/x-python",
   "name": "python",
   "nbconvert_exporter": "python",
   "pygments_lexer": "ipython3",
   "version": "3.11.5"
  }
 },
 "nbformat": 4,
 "nbformat_minor": 5
}
