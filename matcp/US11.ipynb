{
 "cells": [
  {
   "cell_type": "code",
   "execution_count": null,
   "id": "ace945f0",
   "metadata": {},
   "outputs": [],
   "source": [
    "import pandas as pd\n",
    "import seaborn as sns\n",
    "import matplotlib.pyplot as plt\n",
    "\n",
    "# ler arquivo csv\n",
    "dados = pd.read_csv(\"Inquiry.csv\")\n",
    "\n",
    "# tipo de cada variavel\n",
    "tipos = {'Faixa etária': 'category', 'Recomendação': 'category', 'Frequência mensal': 'int'}\n",
    "\n",
    "# tipos identificados ao DataFrame\n",
    "dados = dados.astype(tipos)\n",
    "\n",
    "# Calculo da proporção de usuários de cada faixa etária\n",
    "proporcao_recomendacao = dados.groupby('Faixa etária')['Recomendação'].value_counts(normalize=True).unstack()\n",
    "print(proporcao_recomendacao)\n",
    "\n",
    "# criacao boxplots para cada faixa etária em relação à frequência mensal de utilização do parque\n",
    "plt.figure(figsize=(10, 6))\n",
    "sns.boxplot(data=dados, x='Faixa etária', y='Frequência mensal')\n",
    "plt.title('Frequência mensal de utilização do parque por faixa etária')\n",
    "plt.xlabel('Faixa etária')\n",
    "plt.ylabel('Frequência mensal')\n",
    "plt.show()\n",
    "\n",
    "#verificacao\n"
   ]
  },
  {
   "cell_type": "code",
   "execution_count": null,
   "id": "2b79c184",
   "metadata": {},
   "outputs": [],
   "source": []
  }
 ],
 "metadata": {
  "kernelspec": {
   "display_name": "Python 3 (ipykernel)",
   "language": "python",
   "name": "python3"
  },
  "language_info": {
   "codemirror_mode": {
    "name": "ipython",
    "version": 3
   },
   "file_extension": ".py",
   "mimetype": "text/x-python",
   "name": "python",
   "nbconvert_exporter": "python",
   "pygments_lexer": "ipython3",
   "version": "3.11.5"
  }
 },
 "nbformat": 4,
 "nbformat_minor": 5
}
