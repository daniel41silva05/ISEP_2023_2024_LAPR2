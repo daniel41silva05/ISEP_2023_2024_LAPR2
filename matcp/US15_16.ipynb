{
 "cells": [
  {
   "cell_type": "markdown",
   "id": "f121617f",
   "metadata": {},
   "source": [
    "# US15\n",
    "\n",
    "### Introdução:\n",
    "...\n",
    "___\n",
    "\n",
    "### Código e Resultados:"
   ]
  },
  {
   "cell_type": "code",
   "execution_count": 1,
   "id": "2e585908",
   "metadata": {},
   "outputs": [],
   "source": [
    "# CÓDIGO"
   ]
  },
  {
   "cell_type": "markdown",
   "id": "6e6182fc",
   "metadata": {},
   "source": [
    "### Análise e interpretação dos resultados:\n",
    "...\n",
    "\n",
    "### Fórmulas Usadas:\n",
    "\n",
    "...\n",
    "\n",
    "\n",
    "---"
   ]
  },
  {
   "cell_type": "markdown",
   "id": "ea71a809",
   "metadata": {},
   "source": [
    "# US16\n",
    "\n",
    "### Introdução:\n",
    "...\n",
    "___\n",
    "\n",
    "### Código e Resultados:"
   ]
  },
  {
   "cell_type": "code",
   "execution_count": 2,
   "id": "80c095c6",
   "metadata": {},
   "outputs": [],
   "source": [
    "# CÓDIGO"
   ]
  },
  {
   "cell_type": "markdown",
   "id": "be8dfd1a",
   "metadata": {},
   "source": [
    "### Análise e interpretação dos resultados:\n",
    "...\n",
    "\n",
    "### Fórmulas Usadas:\n",
    "\n",
    "...\n",
    "\n",
    "\n",
    "---"
   ]
  },
  {
   "cell_type": "code",
   "execution_count": null,
   "id": "582445db",
   "metadata": {},
   "outputs": [],
   "source": []
  }
 ],
 "metadata": {
  "kernelspec": {
   "display_name": "Python 3 (ipykernel)",
   "language": "python",
   "name": "python3"
  },
  "language_info": {
   "codemirror_mode": {
    "name": "ipython",
    "version": 3
   },
   "file_extension": ".py",
   "mimetype": "text/x-python",
   "name": "python",
   "nbconvert_exporter": "python",
   "pygments_lexer": "ipython3",
   "version": "3.11.5"
  }
 },
 "nbformat": 4,
 "nbformat_minor": 5
}
