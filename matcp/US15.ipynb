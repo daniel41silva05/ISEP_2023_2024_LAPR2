{
 "cells": [
  {
   "cell_type": "code",
   "id": "initial_id",
   "metadata": {
    "collapsed": true,
    "ExecuteTime": {
     "end_time": "2024-05-15T09:05:40.335014Z",
     "start_time": "2024-05-15T09:05:40.270814Z"
    }
   },
   "source": [
    "import pandas as pd\n",
    "from sklearn.linear_model import LinearRegression\n",
    "from sklearn.model_selection import train_test_split\n",
    "\n",
    "# Carregar os dados do arquivo CSV\n",
    "data = pd.read_csv('../datasetsMATCP/water_consumption_updated.csv', sep=';', decimal=',')\n",
    "\n",
    "# Calcular o consumo médio mensal para cada parque\n",
    "monthly_avg_consumption = data.groupby(['Park name', 'Year', 'Month'])['Consumption'].sum().reset_index().groupby('Park name')['Consumption'].mean().reset_index()\n",
    "\n",
    "# Extrair variáveis relevantes\n",
    "X = monthly_avg_consumption[['Park name']]  # Nome do parque\n",
    "y = monthly_avg_consumption['Consumption']  # Consumo médio mensal\n",
    "\n",
    "# Convertendo o nome do parque em variáveis dummy\n",
    "X = pd.get_dummies(X)\n",
    "\n",
    "# Adicionar o novo parque ao conjunto de características\n",
    "new_park_name = 'NewPark'  # Nome do novo parque\n",
    "X[new_park_name] = 0  # Adicionar uma coluna para o novo parque\n",
    "\n",
    "# Dividir dados em conjuntos de treinamento e teste\n",
    "X_train, X_test, y_train, y_test = train_test_split(X, y, test_size=0.2, random_state=42)\n",
    "\n",
    "# Treinar o modelo de regressão linear\n",
    "model = LinearRegression()\n",
    "model.fit(X_train, y_train)\n",
    "\n",
    "# Avaliar o modelo\n",
    "train_score = model.score(X_train, y_train)\n",
    "test_score = model.score(X_test, y_test)\n",
    "print(\"R² Score (Treinamento):\", train_score)\n",
    "print(\"R² Score (Teste):\", test_score)\n",
    "\n",
    "# Prever o custo médio mensal para o novo parque de 55 hectares\n",
    "new_park_dummy = pd.DataFrame([[0] * len(X.columns)], columns=X.columns)\n",
    "new_park_dummy[new_park_name] = 1  # Definir o novo parque como 1\n",
    "predicted_cost = model.predict(new_park_dummy)\n",
    "print(\"Custo médio mensal previsto para o novo parque:\", predicted_cost[0])\n"
   ],
   "outputs": [
    {
     "name": "stdout",
     "output_type": "stream",
     "text": [
      "R² Score (Treinamento): 1.0\n",
      "R² Score (Teste): -102.07010038278472\n",
      "Custo médio mensal previsto para o novo parque: 29.160000000000004\n"
     ]
    }
   ],
   "execution_count": 11
  },
  {
   "metadata": {
    "ExecuteTime": {
     "end_time": "2024-05-15T08:11:40.739248Z",
     "start_time": "2024-05-15T08:11:40.731378Z"
    }
   },
   "cell_type": "code",
   "source": "",
   "id": "9ba86802c6024e5f",
   "outputs": [],
   "execution_count": 1
  },
  {
   "metadata": {},
   "cell_type": "code",
   "outputs": [],
   "execution_count": null,
   "source": "",
   "id": "68c2959754297ba2"
  }
 ],
 "metadata": {
  "kernelspec": {
   "display_name": "Python 3",
   "language": "python",
   "name": "python3"
  },
  "language_info": {
   "codemirror_mode": {
    "name": "ipython",
    "version": 2
   },
   "file_extension": ".py",
   "mimetype": "text/x-python",
   "name": "python",
   "nbconvert_exporter": "python",
   "pygments_lexer": "ipython2",
   "version": "2.7.6"
  }
 },
 "nbformat": 4,
 "nbformat_minor": 5
}
