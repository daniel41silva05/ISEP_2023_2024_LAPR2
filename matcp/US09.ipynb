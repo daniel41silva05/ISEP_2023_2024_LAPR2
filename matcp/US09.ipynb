{
 "cells": [
  {
   "cell_type": "code",
   "id": "initial_id",
   "metadata": {
    "collapsed": true,
    "ExecuteTime": {
     "end_time": "2024-05-02T14:27:13.946705Z",
     "start_time": "2024-05-02T14:27:13.206608Z"
    }
   },
   "source": [
    "import pandas as pd\n",
    "import matplotlib.pyplot as plt\n",
    "import numpy as np\n",
    "from scipy.stats import skew\n",
    "\n",
    "# Função para calcular custo de água\n",
    "def calculate_water_cost(consumption):\n",
    "    base_cost = 0.7\n",
    "    if consumption > 1000:\n",
    "        additional_cost = (consumption - 1000) * 0.7 * 0.15\n",
    "        return base_cost * consumption + additional_cost\n",
    "    else:\n",
    "        return base_cost * consumption\n",
    "\n",
    "# Carregar dados\n",
    "data = pd.read_csv(\"water_consumption.csv\", delimiter=\";\")\n",
    "\n",
    "# Função para criar gráfico de barras mensal\n",
    "def plot_monthly_consumption(data, park_id, year, start_month, end_month):\n",
    "    filtered_data = data[(data['Park'] == park_id) &\n",
    "                         (data['Year'] == year) &\n",
    "                         (data['Month'] >= start_month) &\n",
    "                         (data['Month'] <= end_month)].copy()\n",
    "\n",
    "    # Convertendo o tipo de dados 'Consumption' para float\n",
    "    filtered_data['Consumption'] = filtered_data['Consumption'].str.replace(',', '.').astype(float)\n",
    "\n",
    "    monthly_consumption = filtered_data.groupby('Month')['Consumption'].sum()\n",
    "    monthly_consumption.plot(kind='bar')\n",
    "    plt.title('Consumo Mensal de Água')\n",
    "    plt.xlabel('Mês')\n",
    "    plt.ylabel('Consumo (m3)')\n",
    "    plt.xticks(rotation=45)\n",
    "    plt.show()\n",
    "\n",
    "# Função para calcular custo médio mensal\n",
    "def calculate_monthly_cost(data, park_id):\n",
    "    park_data = data[data['Park'] == park_id]\n",
    "    if park_data.empty:\n",
    "        print(f\"Não há dados para o parque {park_id}.\")\n",
    "        return None\n",
    "\n",
    "    monthly_cost = park_data.groupby(['Year', 'Month'])['Consumption'].sum().apply(calculate_water_cost)\n",
    "    monthly_cost_mean = monthly_cost.mean()\n",
    "    return monthly_cost_mean\n",
    "\n",
    "# Função para análise estatística\n",
    "def statistical_analysis(data, park_id):\n",
    "    park_data = data[data['Park'] == park_id]\n",
    "    consumption_values = park_data['Consumption'].values\n",
    "    mean = np.mean(consumption_values)\n",
    "    median = np.median(consumption_values)\n",
    "    std_dev = np.std(consumption_values)\n",
    "    skewness = skew(consumption_values)\n",
    "    print(\"Média:\", mean)\n",
    "    print(\"Mediana:\", median)\n",
    "    print(\"Desvio Padrão:\", std_dev)\n",
    "    print(\"Coeficiente de Assimetria:\", skewness)\n",
    "\n",
    "    # Construir tabelas de frequência\n",
    "    classes = [0, 20, 40, 60, 80, 100]\n",
    "    frequency, _ = np.histogram(consumption_values, bins=classes)\n",
    "    relative_frequency = frequency / len(consumption_values)\n",
    "    print(\"\\nTabela de Frequência Absoluta:\")\n",
    "    for i in range(len(classes) - 1):\n",
    "        print(f\"{classes[i]} - {classes[i + 1]}: {frequency[i]}\")\n",
    "    print(\"\\nTabela de Frequência Relativa:\")\n",
    "    for i in range(len(classes) - 1):\n",
    "        print(f\"{classes[i]} - {classes[i + 1]}: {relative_frequency[i]}\")\n",
    "\n",
    "    # Verificar outliers\n",
    "    q1, q3 = np.percentile(consumption_values, [25, 75])\n",
    "    iqr = q3 - q1\n",
    "    lower_bound = q1 - 1.5 * iqr\n",
    "    upper_bound = q3 + 1.5 * iqr\n",
    "    outliers = [value for value in consumption_values if value < lower_bound or value > upper_bound]\n",
    "    if outliers:\n",
    "        print(\"\\nOutliers encontrados:\", outliers)\n",
    "    else:\n",
    "        print(\"\\nNão foram encontrados outliers.\")\n",
    "\n",
    "# Testando as funções\n",
    "plot_monthly_consumption(data, 'Oriental', 2023, 1, 4)\n",
    "monthly_cost = calculate_monthly_cost(data, 'Oriental')\n",
    "if monthly_cost is not None:\n",
    "    print(\"Custo médio mensal do parque Oriental:\", monthly_cost)\n",
    "statistical_analysis(data, 'Oriental')\n"
   ],
   "outputs": [
    {
     "data": {
      "text/plain": [
       "<Figure size 640x480 with 1 Axes>"
      ],
      "image/png": "[encoded data removed]"
     },
     "metadata": {},
     "output_type": "display_data"
    },
    {
     "ename": "TypeError",
     "evalue": "'>' not supported between instances of 'str' and 'int'",
     "output_type": "error",
     "traceback": [
      "\u001B[1;31m---------------------------------------------------------------------------\u001B[0m",
      "\u001B[1;31mTypeError\u001B[0m                                 Traceback (most recent call last)",
      "Cell \u001B[1;32mIn[44], line 84\u001B[0m\n\u001B[0;32m     82\u001B[0m \u001B[38;5;66;03m# Testando as funções\u001B[39;00m\n\u001B[0;32m     83\u001B[0m plot_monthly_consumption(data, \u001B[38;5;124m'\u001B[39m\u001B[38;5;124mOriental\u001B[39m\u001B[38;5;124m'\u001B[39m, \u001B[38;5;241m2023\u001B[39m, \u001B[38;5;241m1\u001B[39m, \u001B[38;5;241m4\u001B[39m)\n\u001B[1;32m---> 84\u001B[0m monthly_cost \u001B[38;5;241m=\u001B[39m calculate_monthly_cost(data, \u001B[38;5;124m'\u001B[39m\u001B[38;5;124mOriental\u001B[39m\u001B[38;5;124m'\u001B[39m)\n\u001B[0;32m     85\u001B[0m \u001B[38;5;28;01mif\u001B[39;00m monthly_cost \u001B[38;5;129;01mis\u001B[39;00m \u001B[38;5;129;01mnot\u001B[39;00m \u001B[38;5;28;01mNone\u001B[39;00m:\n\u001B[0;32m     86\u001B[0m     \u001B[38;5;28mprint\u001B[39m(\u001B[38;5;124m\"\u001B[39m\u001B[38;5;124mCusto médio mensal do parque Oriental:\u001B[39m\u001B[38;5;124m\"\u001B[39m, monthly_cost)\n",
      "Cell \u001B[1;32mIn[44], line 43\u001B[0m, in \u001B[0;36mcalculate_monthly_cost\u001B[1;34m(data, park_id)\u001B[0m\n\u001B[0;32m     40\u001B[0m     \u001B[38;5;28mprint\u001B[39m(\u001B[38;5;124mf\u001B[39m\u001B[38;5;124m\"\u001B[39m\u001B[38;5;124mNão há dados para o parque \u001B[39m\u001B[38;5;132;01m{\u001B[39;00mpark_id\u001B[38;5;132;01m}\u001B[39;00m\u001B[38;5;124m.\u001B[39m\u001B[38;5;124m\"\u001B[39m)\n\u001B[0;32m     41\u001B[0m     \u001B[38;5;28;01mreturn\u001B[39;00m \u001B[38;5;28;01mNone\u001B[39;00m\n\u001B[1;32m---> 43\u001B[0m monthly_cost \u001B[38;5;241m=\u001B[39m park_data\u001B[38;5;241m.\u001B[39mgroupby([\u001B[38;5;124m'\u001B[39m\u001B[38;5;124mYear\u001B[39m\u001B[38;5;124m'\u001B[39m, \u001B[38;5;124m'\u001B[39m\u001B[38;5;124mMonth\u001B[39m\u001B[38;5;124m'\u001B[39m])[\u001B[38;5;124m'\u001B[39m\u001B[38;5;124mConsumption\u001B[39m\u001B[38;5;124m'\u001B[39m]\u001B[38;5;241m.\u001B[39msum()\u001B[38;5;241m.\u001B[39mapply(calculate_water_cost)\n\u001B[0;32m     44\u001B[0m monthly_cost_mean \u001B[38;5;241m=\u001B[39m monthly_cost\u001B[38;5;241m.\u001B[39mmean()\n\u001B[0;32m     45\u001B[0m \u001B[38;5;28;01mreturn\u001B[39;00m monthly_cost_mean\n",
      "File \u001B[1;32m~\\anaconda3\\Lib\\site-packages\\pandas\\core\\series.py:4630\u001B[0m, in \u001B[0;36mSeries.apply\u001B[1;34m(self, func, convert_dtype, args, **kwargs)\u001B[0m\n\u001B[0;32m   4520\u001B[0m \u001B[38;5;28;01mdef\u001B[39;00m \u001B[38;5;21mapply\u001B[39m(\n\u001B[0;32m   4521\u001B[0m     \u001B[38;5;28mself\u001B[39m,\n\u001B[0;32m   4522\u001B[0m     func: AggFuncType,\n\u001B[1;32m   (...)\u001B[0m\n\u001B[0;32m   4525\u001B[0m     \u001B[38;5;241m*\u001B[39m\u001B[38;5;241m*\u001B[39mkwargs,\n\u001B[0;32m   4526\u001B[0m ) \u001B[38;5;241m-\u001B[39m\u001B[38;5;241m>\u001B[39m DataFrame \u001B[38;5;241m|\u001B[39m Series:\n\u001B[0;32m   4527\u001B[0m \u001B[38;5;250m    \u001B[39m\u001B[38;5;124;03m\"\"\"\u001B[39;00m\n\u001B[0;32m   4528\u001B[0m \u001B[38;5;124;03m    Invoke function on values of Series.\u001B[39;00m\n\u001B[0;32m   4529\u001B[0m \n\u001B[1;32m   (...)\u001B[0m\n\u001B[0;32m   4628\u001B[0m \u001B[38;5;124;03m    dtype: float64\u001B[39;00m\n\u001B[0;32m   4629\u001B[0m \u001B[38;5;124;03m    \"\"\"\u001B[39;00m\n\u001B[1;32m-> 4630\u001B[0m     \u001B[38;5;28;01mreturn\u001B[39;00m SeriesApply(\u001B[38;5;28mself\u001B[39m, func, convert_dtype, args, kwargs)\u001B[38;5;241m.\u001B[39mapply()\n",
      "File \u001B[1;32m~\\anaconda3\\Lib\\site-packages\\pandas\\core\\apply.py:1025\u001B[0m, in \u001B[0;36mSeriesApply.apply\u001B[1;34m(self)\u001B[0m\n\u001B[0;32m   1022\u001B[0m     \u001B[38;5;28;01mreturn\u001B[39;00m \u001B[38;5;28mself\u001B[39m\u001B[38;5;241m.\u001B[39mapply_str()\n\u001B[0;32m   1024\u001B[0m \u001B[38;5;66;03m# self.f is Callable\u001B[39;00m\n\u001B[1;32m-> 1025\u001B[0m \u001B[38;5;28;01mreturn\u001B[39;00m \u001B[38;5;28mself\u001B[39m\u001B[38;5;241m.\u001B[39mapply_standard()\n",
      "File \u001B[1;32m~\\anaconda3\\Lib\\site-packages\\pandas\\core\\apply.py:1076\u001B[0m, in \u001B[0;36mSeriesApply.apply_standard\u001B[1;34m(self)\u001B[0m\n\u001B[0;32m   1074\u001B[0m     \u001B[38;5;28;01melse\u001B[39;00m:\n\u001B[0;32m   1075\u001B[0m         values \u001B[38;5;241m=\u001B[39m obj\u001B[38;5;241m.\u001B[39mastype(\u001B[38;5;28mobject\u001B[39m)\u001B[38;5;241m.\u001B[39m_values\n\u001B[1;32m-> 1076\u001B[0m         mapped \u001B[38;5;241m=\u001B[39m lib\u001B[38;5;241m.\u001B[39mmap_infer(\n\u001B[0;32m   1077\u001B[0m             values,\n\u001B[0;32m   1078\u001B[0m             f,\n\u001B[0;32m   1079\u001B[0m             convert\u001B[38;5;241m=\u001B[39m\u001B[38;5;28mself\u001B[39m\u001B[38;5;241m.\u001B[39mconvert_dtype,\n\u001B[0;32m   1080\u001B[0m         )\n\u001B[0;32m   1082\u001B[0m \u001B[38;5;28;01mif\u001B[39;00m \u001B[38;5;28mlen\u001B[39m(mapped) \u001B[38;5;129;01mand\u001B[39;00m \u001B[38;5;28misinstance\u001B[39m(mapped[\u001B[38;5;241m0\u001B[39m], ABCSeries):\n\u001B[0;32m   1083\u001B[0m     \u001B[38;5;66;03m# GH#43986 Need to do list(mapped) in order to get treated as nested\u001B[39;00m\n\u001B[0;32m   1084\u001B[0m     \u001B[38;5;66;03m#  See also GH#25959 regarding EA support\u001B[39;00m\n\u001B[0;32m   1085\u001B[0m     \u001B[38;5;28;01mreturn\u001B[39;00m obj\u001B[38;5;241m.\u001B[39m_constructor_expanddim(\u001B[38;5;28mlist\u001B[39m(mapped), index\u001B[38;5;241m=\u001B[39mobj\u001B[38;5;241m.\u001B[39mindex)\n",
      "File \u001B[1;32m~\\anaconda3\\Lib\\site-packages\\pandas\\_libs\\lib.pyx:2834\u001B[0m, in \u001B[0;36mpandas._libs.lib.map_infer\u001B[1;34m()\u001B[0m\n",
      "Cell \u001B[1;32mIn[44], line 9\u001B[0m, in \u001B[0;36mcalculate_water_cost\u001B[1;34m(consumption)\u001B[0m\n\u001B[0;32m      7\u001B[0m \u001B[38;5;28;01mdef\u001B[39;00m \u001B[38;5;21mcalculate_water_cost\u001B[39m(consumption):\n\u001B[0;32m      8\u001B[0m     base_cost \u001B[38;5;241m=\u001B[39m \u001B[38;5;241m0.7\u001B[39m\n\u001B[1;32m----> 9\u001B[0m     \u001B[38;5;28;01mif\u001B[39;00m consumption \u001B[38;5;241m>\u001B[39m \u001B[38;5;241m1000\u001B[39m:\n\u001B[0;32m     10\u001B[0m         additional_cost \u001B[38;5;241m=\u001B[39m (consumption \u001B[38;5;241m-\u001B[39m \u001B[38;5;241m1000\u001B[39m) \u001B[38;5;241m*\u001B[39m \u001B[38;5;241m0.7\u001B[39m \u001B[38;5;241m*\u001B[39m \u001B[38;5;241m0.15\u001B[39m\n\u001B[0;32m     11\u001B[0m         \u001B[38;5;28;01mreturn\u001B[39;00m base_cost \u001B[38;5;241m*\u001B[39m consumption \u001B[38;5;241m+\u001B[39m additional_cost\n",
      "\u001B[1;31mTypeError\u001B[0m: '>' not supported between instances of 'str' and 'int'"
     ]
    }
   ],
   "execution_count": 44
  },
  {
   "metadata": {},
   "cell_type": "code",
   "outputs": [],
   "execution_count": null,
   "source": "",
   "id": "915c25953397bd21"
  }
 ],
 "metadata": {
  "kernelspec": {
   "display_name": "Python 3",
   "language": "python",
   "name": "python3"
  },
  "language_info": {
   "codemirror_mode": {
    "name": "ipython",
    "version": 2
   },
   "file_extension": ".py",
   "mimetype": "text/x-python",
   "name": "python",
   "nbconvert_exporter": "python",
   "pygments_lexer": "ipython2",
   "version": "2.7.6"
  }
 },
 "nbformat": 4,
 "nbformat_minor": 5
}
